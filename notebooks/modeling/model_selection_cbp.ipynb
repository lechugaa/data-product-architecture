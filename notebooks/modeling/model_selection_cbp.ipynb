{
 "cells": [
  {
   "cell_type": "markdown",
   "id": "level-title",
   "metadata": {},
   "source": [
    "# Model selection"
   ]
  },
  {
   "cell_type": "code",
   "execution_count": 34,
   "id": "suburban-thirty",
   "metadata": {},
   "outputs": [],
   "source": [
    "import pickle\n",
    "import pandas as pd\n",
    "import numpy as np\n",
    "from sklearn.tree import DecisionTreeClassifier\n",
    "from sklearn.ensemble import RandomForestClassifier\n",
    "from sklearn.model_selection import GridSearchCV\n",
    "import time"
   ]
  },
  {
   "cell_type": "code",
   "execution_count": 2,
   "id": "declared-april",
   "metadata": {},
   "outputs": [],
   "source": [
    "data_dict = pickle.load(open(\"/Users/cbautistap/Dropbox/MCD/Cursos/primavera-2021/dpa/dpa-project/temp/feature-engineering-dataset-2021-02-22-training.pkl\",'rb'))"
   ]
  },
  {
   "cell_type": "code",
   "execution_count": 3,
   "id": "toxic-learning",
   "metadata": {},
   "outputs": [],
   "source": [
    "X_train = data_dict['X_train']\n",
    "y_train = data_dict['y_train']\n",
    "X_test = data_dict['X_test']\n",
    "y_test = data_dict['y_test']"
   ]
  },
  {
   "cell_type": "code",
   "execution_count": 4,
   "id": "nutritional-indication",
   "metadata": {},
   "outputs": [
    {
     "data": {
      "text/html": [
       "<div>\n",
       "<style scoped>\n",
       "    .dataframe tbody tr th:only-of-type {\n",
       "        vertical-align: middle;\n",
       "    }\n",
       "\n",
       "    .dataframe tbody tr th {\n",
       "        vertical-align: top;\n",
       "    }\n",
       "\n",
       "    .dataframe thead th {\n",
       "        text-align: right;\n",
       "    }\n",
       "</style>\n",
       "<table border=\"1\" class=\"dataframe\">\n",
       "  <thead>\n",
       "    <tr style=\"text-align: right;\">\n",
       "      <th></th>\n",
       "      <th>latitude</th>\n",
       "      <th>longitude</th>\n",
       "      <th>num_violations</th>\n",
       "      <th>inspection_type_canvas</th>\n",
       "      <th>inspection_type_complaint</th>\n",
       "      <th>inspection_type_consultation</th>\n",
       "      <th>inspection_type_license</th>\n",
       "      <th>inspection_type_other</th>\n",
       "      <th>inspection_type_suspected_food_poisoning</th>\n",
       "      <th>inspection_type_tag_removal</th>\n",
       "      <th>...</th>\n",
       "      <th>month_11</th>\n",
       "      <th>month_12</th>\n",
       "      <th>month_2</th>\n",
       "      <th>month_3</th>\n",
       "      <th>month_4</th>\n",
       "      <th>month_5</th>\n",
       "      <th>month_6</th>\n",
       "      <th>month_7</th>\n",
       "      <th>month_8</th>\n",
       "      <th>month_9</th>\n",
       "    </tr>\n",
       "  </thead>\n",
       "  <tbody>\n",
       "    <tr>\n",
       "      <th>0</th>\n",
       "      <td>0.779334</td>\n",
       "      <td>0.692654</td>\n",
       "      <td>0</td>\n",
       "      <td>0.0</td>\n",
       "      <td>0.0</td>\n",
       "      <td>0.0</td>\n",
       "      <td>1.0</td>\n",
       "      <td>0.0</td>\n",
       "      <td>0.0</td>\n",
       "      <td>0.0</td>\n",
       "      <td>...</td>\n",
       "      <td>0.0</td>\n",
       "      <td>0.0</td>\n",
       "      <td>0.0</td>\n",
       "      <td>0.0</td>\n",
       "      <td>0.0</td>\n",
       "      <td>0.0</td>\n",
       "      <td>0.0</td>\n",
       "      <td>0.0</td>\n",
       "      <td>0.0</td>\n",
       "      <td>0.0</td>\n",
       "    </tr>\n",
       "    <tr>\n",
       "      <th>1</th>\n",
       "      <td>0.842031</td>\n",
       "      <td>0.612486</td>\n",
       "      <td>0</td>\n",
       "      <td>0.0</td>\n",
       "      <td>0.0</td>\n",
       "      <td>0.0</td>\n",
       "      <td>1.0</td>\n",
       "      <td>0.0</td>\n",
       "      <td>0.0</td>\n",
       "      <td>0.0</td>\n",
       "      <td>...</td>\n",
       "      <td>0.0</td>\n",
       "      <td>0.0</td>\n",
       "      <td>0.0</td>\n",
       "      <td>0.0</td>\n",
       "      <td>0.0</td>\n",
       "      <td>0.0</td>\n",
       "      <td>0.0</td>\n",
       "      <td>0.0</td>\n",
       "      <td>0.0</td>\n",
       "      <td>0.0</td>\n",
       "    </tr>\n",
       "    <tr>\n",
       "      <th>2</th>\n",
       "      <td>0.842031</td>\n",
       "      <td>0.612486</td>\n",
       "      <td>0</td>\n",
       "      <td>0.0</td>\n",
       "      <td>0.0</td>\n",
       "      <td>0.0</td>\n",
       "      <td>1.0</td>\n",
       "      <td>0.0</td>\n",
       "      <td>0.0</td>\n",
       "      <td>0.0</td>\n",
       "      <td>...</td>\n",
       "      <td>0.0</td>\n",
       "      <td>0.0</td>\n",
       "      <td>0.0</td>\n",
       "      <td>0.0</td>\n",
       "      <td>0.0</td>\n",
       "      <td>0.0</td>\n",
       "      <td>0.0</td>\n",
       "      <td>0.0</td>\n",
       "      <td>0.0</td>\n",
       "      <td>0.0</td>\n",
       "    </tr>\n",
       "    <tr>\n",
       "      <th>3</th>\n",
       "      <td>0.780492</td>\n",
       "      <td>0.375282</td>\n",
       "      <td>0</td>\n",
       "      <td>0.0</td>\n",
       "      <td>0.0</td>\n",
       "      <td>0.0</td>\n",
       "      <td>1.0</td>\n",
       "      <td>0.0</td>\n",
       "      <td>0.0</td>\n",
       "      <td>0.0</td>\n",
       "      <td>...</td>\n",
       "      <td>0.0</td>\n",
       "      <td>0.0</td>\n",
       "      <td>0.0</td>\n",
       "      <td>0.0</td>\n",
       "      <td>0.0</td>\n",
       "      <td>0.0</td>\n",
       "      <td>0.0</td>\n",
       "      <td>0.0</td>\n",
       "      <td>0.0</td>\n",
       "      <td>0.0</td>\n",
       "    </tr>\n",
       "    <tr>\n",
       "      <th>4</th>\n",
       "      <td>0.674190</td>\n",
       "      <td>0.735664</td>\n",
       "      <td>11</td>\n",
       "      <td>1.0</td>\n",
       "      <td>0.0</td>\n",
       "      <td>0.0</td>\n",
       "      <td>0.0</td>\n",
       "      <td>0.0</td>\n",
       "      <td>0.0</td>\n",
       "      <td>0.0</td>\n",
       "      <td>...</td>\n",
       "      <td>0.0</td>\n",
       "      <td>0.0</td>\n",
       "      <td>0.0</td>\n",
       "      <td>0.0</td>\n",
       "      <td>0.0</td>\n",
       "      <td>0.0</td>\n",
       "      <td>0.0</td>\n",
       "      <td>0.0</td>\n",
       "      <td>0.0</td>\n",
       "      <td>0.0</td>\n",
       "    </tr>\n",
       "    <tr>\n",
       "      <th>...</th>\n",
       "      <td>...</td>\n",
       "      <td>...</td>\n",
       "      <td>...</td>\n",
       "      <td>...</td>\n",
       "      <td>...</td>\n",
       "      <td>...</td>\n",
       "      <td>...</td>\n",
       "      <td>...</td>\n",
       "      <td>...</td>\n",
       "      <td>...</td>\n",
       "      <td>...</td>\n",
       "      <td>...</td>\n",
       "      <td>...</td>\n",
       "      <td>...</td>\n",
       "      <td>...</td>\n",
       "      <td>...</td>\n",
       "      <td>...</td>\n",
       "      <td>...</td>\n",
       "      <td>...</td>\n",
       "      <td>...</td>\n",
       "      <td>...</td>\n",
       "    </tr>\n",
       "    <tr>\n",
       "      <th>161753</th>\n",
       "      <td>0.742845</td>\n",
       "      <td>0.416900</td>\n",
       "      <td>3</td>\n",
       "      <td>0.0</td>\n",
       "      <td>1.0</td>\n",
       "      <td>0.0</td>\n",
       "      <td>0.0</td>\n",
       "      <td>0.0</td>\n",
       "      <td>0.0</td>\n",
       "      <td>0.0</td>\n",
       "      <td>...</td>\n",
       "      <td>0.0</td>\n",
       "      <td>1.0</td>\n",
       "      <td>0.0</td>\n",
       "      <td>0.0</td>\n",
       "      <td>0.0</td>\n",
       "      <td>0.0</td>\n",
       "      <td>0.0</td>\n",
       "      <td>0.0</td>\n",
       "      <td>0.0</td>\n",
       "      <td>0.0</td>\n",
       "    </tr>\n",
       "    <tr>\n",
       "      <th>161754</th>\n",
       "      <td>0.539826</td>\n",
       "      <td>0.487070</td>\n",
       "      <td>6</td>\n",
       "      <td>0.0</td>\n",
       "      <td>1.0</td>\n",
       "      <td>0.0</td>\n",
       "      <td>0.0</td>\n",
       "      <td>0.0</td>\n",
       "      <td>0.0</td>\n",
       "      <td>0.0</td>\n",
       "      <td>...</td>\n",
       "      <td>0.0</td>\n",
       "      <td>1.0</td>\n",
       "      <td>0.0</td>\n",
       "      <td>0.0</td>\n",
       "      <td>0.0</td>\n",
       "      <td>0.0</td>\n",
       "      <td>0.0</td>\n",
       "      <td>0.0</td>\n",
       "      <td>0.0</td>\n",
       "      <td>0.0</td>\n",
       "    </tr>\n",
       "    <tr>\n",
       "      <th>161755</th>\n",
       "      <td>0.595704</td>\n",
       "      <td>0.707180</td>\n",
       "      <td>3</td>\n",
       "      <td>0.0</td>\n",
       "      <td>1.0</td>\n",
       "      <td>0.0</td>\n",
       "      <td>0.0</td>\n",
       "      <td>0.0</td>\n",
       "      <td>0.0</td>\n",
       "      <td>0.0</td>\n",
       "      <td>...</td>\n",
       "      <td>0.0</td>\n",
       "      <td>1.0</td>\n",
       "      <td>0.0</td>\n",
       "      <td>0.0</td>\n",
       "      <td>0.0</td>\n",
       "      <td>0.0</td>\n",
       "      <td>0.0</td>\n",
       "      <td>0.0</td>\n",
       "      <td>0.0</td>\n",
       "      <td>0.0</td>\n",
       "    </tr>\n",
       "    <tr>\n",
       "      <th>161756</th>\n",
       "      <td>0.493807</td>\n",
       "      <td>0.622472</td>\n",
       "      <td>9</td>\n",
       "      <td>0.0</td>\n",
       "      <td>1.0</td>\n",
       "      <td>0.0</td>\n",
       "      <td>0.0</td>\n",
       "      <td>0.0</td>\n",
       "      <td>0.0</td>\n",
       "      <td>0.0</td>\n",
       "      <td>...</td>\n",
       "      <td>0.0</td>\n",
       "      <td>1.0</td>\n",
       "      <td>0.0</td>\n",
       "      <td>0.0</td>\n",
       "      <td>0.0</td>\n",
       "      <td>0.0</td>\n",
       "      <td>0.0</td>\n",
       "      <td>0.0</td>\n",
       "      <td>0.0</td>\n",
       "      <td>0.0</td>\n",
       "    </tr>\n",
       "    <tr>\n",
       "      <th>161757</th>\n",
       "      <td>0.655000</td>\n",
       "      <td>0.664452</td>\n",
       "      <td>4</td>\n",
       "      <td>0.0</td>\n",
       "      <td>1.0</td>\n",
       "      <td>0.0</td>\n",
       "      <td>0.0</td>\n",
       "      <td>0.0</td>\n",
       "      <td>0.0</td>\n",
       "      <td>0.0</td>\n",
       "      <td>...</td>\n",
       "      <td>0.0</td>\n",
       "      <td>1.0</td>\n",
       "      <td>0.0</td>\n",
       "      <td>0.0</td>\n",
       "      <td>0.0</td>\n",
       "      <td>0.0</td>\n",
       "      <td>0.0</td>\n",
       "      <td>0.0</td>\n",
       "      <td>0.0</td>\n",
       "      <td>0.0</td>\n",
       "    </tr>\n",
       "  </tbody>\n",
       "</table>\n",
       "<p>161758 rows × 105 columns</p>\n",
       "</div>"
      ],
      "text/plain": [
       "        latitude  longitude  num_violations  inspection_type_canvas  \\\n",
       "0       0.779334   0.692654               0                     0.0   \n",
       "1       0.842031   0.612486               0                     0.0   \n",
       "2       0.842031   0.612486               0                     0.0   \n",
       "3       0.780492   0.375282               0                     0.0   \n",
       "4       0.674190   0.735664              11                     1.0   \n",
       "...          ...        ...             ...                     ...   \n",
       "161753  0.742845   0.416900               3                     0.0   \n",
       "161754  0.539826   0.487070               6                     0.0   \n",
       "161755  0.595704   0.707180               3                     0.0   \n",
       "161756  0.493807   0.622472               9                     0.0   \n",
       "161757  0.655000   0.664452               4                     0.0   \n",
       "\n",
       "        inspection_type_complaint  inspection_type_consultation  \\\n",
       "0                             0.0                           0.0   \n",
       "1                             0.0                           0.0   \n",
       "2                             0.0                           0.0   \n",
       "3                             0.0                           0.0   \n",
       "4                             0.0                           0.0   \n",
       "...                           ...                           ...   \n",
       "161753                        1.0                           0.0   \n",
       "161754                        1.0                           0.0   \n",
       "161755                        1.0                           0.0   \n",
       "161756                        1.0                           0.0   \n",
       "161757                        1.0                           0.0   \n",
       "\n",
       "        inspection_type_license  inspection_type_other  \\\n",
       "0                           1.0                    0.0   \n",
       "1                           1.0                    0.0   \n",
       "2                           1.0                    0.0   \n",
       "3                           1.0                    0.0   \n",
       "4                           0.0                    0.0   \n",
       "...                         ...                    ...   \n",
       "161753                      0.0                    0.0   \n",
       "161754                      0.0                    0.0   \n",
       "161755                      0.0                    0.0   \n",
       "161756                      0.0                    0.0   \n",
       "161757                      0.0                    0.0   \n",
       "\n",
       "        inspection_type_suspected_food_poisoning  inspection_type_tag_removal  \\\n",
       "0                                            0.0                          0.0   \n",
       "1                                            0.0                          0.0   \n",
       "2                                            0.0                          0.0   \n",
       "3                                            0.0                          0.0   \n",
       "4                                            0.0                          0.0   \n",
       "...                                          ...                          ...   \n",
       "161753                                       0.0                          0.0   \n",
       "161754                                       0.0                          0.0   \n",
       "161755                                       0.0                          0.0   \n",
       "161756                                       0.0                          0.0   \n",
       "161757                                       0.0                          0.0   \n",
       "\n",
       "        ...  month_11  month_12  month_2  month_3  month_4  month_5  month_6  \\\n",
       "0       ...       0.0       0.0      0.0      0.0      0.0      0.0      0.0   \n",
       "1       ...       0.0       0.0      0.0      0.0      0.0      0.0      0.0   \n",
       "2       ...       0.0       0.0      0.0      0.0      0.0      0.0      0.0   \n",
       "3       ...       0.0       0.0      0.0      0.0      0.0      0.0      0.0   \n",
       "4       ...       0.0       0.0      0.0      0.0      0.0      0.0      0.0   \n",
       "...     ...       ...       ...      ...      ...      ...      ...      ...   \n",
       "161753  ...       0.0       1.0      0.0      0.0      0.0      0.0      0.0   \n",
       "161754  ...       0.0       1.0      0.0      0.0      0.0      0.0      0.0   \n",
       "161755  ...       0.0       1.0      0.0      0.0      0.0      0.0      0.0   \n",
       "161756  ...       0.0       1.0      0.0      0.0      0.0      0.0      0.0   \n",
       "161757  ...       0.0       1.0      0.0      0.0      0.0      0.0      0.0   \n",
       "\n",
       "        month_7  month_8  month_9  \n",
       "0           0.0      0.0      0.0  \n",
       "1           0.0      0.0      0.0  \n",
       "2           0.0      0.0      0.0  \n",
       "3           0.0      0.0      0.0  \n",
       "4           0.0      0.0      0.0  \n",
       "...         ...      ...      ...  \n",
       "161753      0.0      0.0      0.0  \n",
       "161754      0.0      0.0      0.0  \n",
       "161755      0.0      0.0      0.0  \n",
       "161756      0.0      0.0      0.0  \n",
       "161757      0.0      0.0      0.0  \n",
       "\n",
       "[161758 rows x 105 columns]"
      ]
     },
     "execution_count": 4,
     "metadata": {},
     "output_type": "execute_result"
    }
   ],
   "source": [
    "X_train"
   ]
  },
  {
   "cell_type": "code",
   "execution_count": 5,
   "id": "regulation-sacrifice",
   "metadata": {},
   "outputs": [
    {
     "data": {
      "text/plain": [
       "0         1\n",
       "1         1\n",
       "2         1\n",
       "3         1\n",
       "4         0\n",
       "         ..\n",
       "161753    0\n",
       "161754    1\n",
       "161755    1\n",
       "161756    0\n",
       "161757    1\n",
       "Name: results, Length: 161758, dtype: int64"
      ]
     },
     "execution_count": 5,
     "metadata": {},
     "output_type": "execute_result"
    }
   ],
   "source": [
    "y_train"
   ]
  },
  {
   "cell_type": "markdown",
   "id": "circular-factory",
   "metadata": {},
   "source": [
    "## Magic loop"
   ]
  },
  {
   "cell_type": "code",
   "execution_count": 6,
   "id": "serial-cement",
   "metadata": {
    "jupyter": {
     "source_hidden": true
    }
   },
   "outputs": [],
   "source": [
    "#algorithms_dict = {'tree': 'tree_grid_search',\n",
    "#                  'random_forest': 'rf_grid_search'}\n",
    "\n",
    "#grid_search_dict = {'tree_grid_search': {'max_depth': [5,10,15], \n",
    "#                                         'min_samples_leaf': [3,5,7]},\n",
    "#                   'rf_grid_search': {'n_estimators': [100,500,1000],  \n",
    "#                                      'max_depth': [5,10], \n",
    "#                                      'min_samples_split':[3,5],\n",
    "#                                      'max_features': [10,15,20],\n",
    "                                      #'min_samples_leaf': [3,5],\n",
    "#                                      'criterion': ['gini']}}\n",
    "\n",
    "#estimators_dict = {'tree': DecisionTreeClassifier(random_state=1111),\n",
    "#                  'random_forest': RandomForestClassifier(oob_score=True, random_state=2222)}"
   ]
  },
  {
   "cell_type": "code",
   "execution_count": 7,
   "id": "brown-illinois",
   "metadata": {},
   "outputs": [],
   "source": [
    "algorithms_dict = {'tree': 'tree_grid_search',\n",
    "                  'random_forest': 'rf_grid_search'}\n",
    "\n",
    "grid_search_dict = {'tree_grid_search': {'max_depth': [5,10,15], \n",
    "                                         'min_samples_leaf': [3,5,7]},\n",
    "                   'rf_grid_search': {'n_estimators': [300,400],  \n",
    "                                      #'min_samples_leaf': [3,5],\n",
    "                                      'max_depth':[7,10],\n",
    "                                      'min_samples_split':[3],\n",
    "                                      'max_features': [10,15,20],\n",
    "                                      'criterion': ['gini']}}\n",
    "\n",
    "estimators_dict = {'tree': DecisionTreeClassifier(random_state=1111),\n",
    "                   'random_forest': RandomForestClassifier(oob_score=True, random_state=2222)}"
   ]
  },
  {
   "cell_type": "code",
   "execution_count": 8,
   "id": "religious-buying",
   "metadata": {},
   "outputs": [],
   "source": [
    "def magic_loop(algorithms, features, labels):\n",
    "    best_estimators = []\n",
    "    for algorithm in algorithms:\n",
    "        estimator = estimators_dict[algorithm]\n",
    "        grid_search_to_look = algorithms_dict[algorithm]\n",
    "        grid_params = grid_search_dict[grid_search_to_look]\n",
    "        \n",
    "        gs = GridSearchCV(estimator, grid_params, scoring='roc_auc', cv=5, n_jobs=-1)\n",
    "        \n",
    "        #train\n",
    "        gs.fit(features, labels)\n",
    "        #best estimator\n",
    "        best_estimators.append(gs)\n",
    "        \n",
    "        \n",
    "    return best_estimators"
   ]
  },
  {
   "cell_type": "code",
   "execution_count": 9,
   "id": "continuing-teacher",
   "metadata": {
    "jupyter": {
     "source_hidden": true
    }
   },
   "outputs": [],
   "source": [
    "#def magic_loop(algorithms, features, labels):\n",
    "#    best_estimators = []\n",
    "#    for algorithm in algorithms:\n",
    "#        estimator = estimators_dict[algorithm]\n",
    "#        grid_search_to_look = algorithms_dict[algorithm]\n",
    "#        grid_params = grid_search_dict[grid_search_to_look]\n",
    "#        \n",
    "#        gs = GridSearchCV(estimator, grid_params, scoring='precision', cv=5, n_jobs=-1)\n",
    "#        \n",
    "#        #train\n",
    "#        gs.fit(features, labels)\n",
    "#        #best estimator\n",
    "#        best_estimators.append(gs)\n",
    "#        \n",
    "#        \n",
    "#    return best_estimators"
   ]
  },
  {
   "cell_type": "code",
   "execution_count": 10,
   "id": "center-lobby",
   "metadata": {},
   "outputs": [
    {
     "name": "stdout",
     "output_type": "stream",
     "text": [
      "Tiempo en ejecutar:  871.9854776859283\n"
     ]
    }
   ],
   "source": [
    "algorithms = ['tree','random_forest']\n",
    "start_time = time.time()\n",
    "best = magic_loop(algorithms, X_train, y_train)\n",
    "#best[0].best_estimator_\n",
    "print(\"Tiempo en ejecutar: \", time.time() - start_time)"
   ]
  },
  {
   "cell_type": "markdown",
   "id": "clean-vietnamese",
   "metadata": {},
   "source": [
    "La mejor configuración del Decission Tree es:"
   ]
  },
  {
   "cell_type": "code",
   "execution_count": 11,
   "id": "constant-bundle",
   "metadata": {},
   "outputs": [
    {
     "data": {
      "text/plain": [
       "DecisionTreeClassifier(max_depth=5, min_samples_leaf=7, random_state=1111)"
      ]
     },
     "execution_count": 11,
     "metadata": {},
     "output_type": "execute_result"
    }
   ],
   "source": [
    "best_t = best[0].best_estimator_\n",
    "best_t"
   ]
  },
  {
   "cell_type": "markdown",
   "id": "mediterranean-filter",
   "metadata": {},
   "source": [
    "La mejor configuración del Random Forest es:"
   ]
  },
  {
   "cell_type": "code",
   "execution_count": 12,
   "id": "modified-difference",
   "metadata": {},
   "outputs": [
    {
     "data": {
      "text/plain": [
       "RandomForestClassifier(max_depth=10, max_features=20, min_samples_split=3,\n",
       "                       n_estimators=400, oob_score=True, random_state=2222)"
      ]
     },
     "execution_count": 12,
     "metadata": {},
     "output_type": "execute_result"
    }
   ],
   "source": [
    "best_rf = best[1].best_estimator_\n",
    "best_rf"
   ]
  },
  {
   "cell_type": "markdown",
   "id": "adolescent-cargo",
   "metadata": {},
   "source": [
    "**Para definir el mejor modelo evaluamos el modelo con mejor AUC**"
   ]
  },
  {
   "cell_type": "markdown",
   "id": "developing-death",
   "metadata": {},
   "source": [
    "El score de Decission Tree es:"
   ]
  },
  {
   "cell_type": "code",
   "execution_count": 13,
   "id": "instrumental-lancaster",
   "metadata": {},
   "outputs": [
    {
     "data": {
      "text/plain": [
       "0.804196173180016"
      ]
     },
     "execution_count": 13,
     "metadata": {},
     "output_type": "execute_result"
    }
   ],
   "source": [
    "best[0].best_score_\n",
    "#best_t.best_score_"
   ]
  },
  {
   "cell_type": "markdown",
   "id": "sustainable-situation",
   "metadata": {},
   "source": [
    "El score de Random Forest es"
   ]
  },
  {
   "cell_type": "code",
   "execution_count": 14,
   "id": "ancient-draft",
   "metadata": {},
   "outputs": [
    {
     "data": {
      "text/plain": [
       "0.8064091178132321"
      ]
     },
     "execution_count": 14,
     "metadata": {},
     "output_type": "execute_result"
    }
   ],
   "source": [
    "best[1].best_score_\n",
    "#best_t.best_score_"
   ]
  },
  {
   "cell_type": "markdown",
   "id": "special-skill",
   "metadata": {},
   "source": [
    "Por lo que el mejor modelo, aunque marginalmente, es el RF"
   ]
  },
  {
   "cell_type": "markdown",
   "id": "affected-merchandise",
   "metadata": {},
   "source": [
    "**Hacemos predicciones con el mejor modelo, para después cambiar el threshold**"
   ]
  },
  {
   "cell_type": "markdown",
   "id": "infinite-fault",
   "metadata": {},
   "source": [
    "## Model evaluation"
   ]
  },
  {
   "cell_type": "code",
   "execution_count": 40,
   "id": "secondary-monkey",
   "metadata": {},
   "outputs": [
    {
     "data": {
      "text/plain": [
       "DecisionTreeClassifier(max_depth=5, min_samples_leaf=7, random_state=1111)"
      ]
     },
     "execution_count": 40,
     "metadata": {},
     "output_type": "execute_result"
    }
   ],
   "source": [
    "# entrenamos con el mejor del algoritmo Tree\n",
    "best_t.fit(X_train, y_train)"
   ]
  },
  {
   "cell_type": "code",
   "execution_count": 41,
   "id": "scheduled-plane",
   "metadata": {},
   "outputs": [],
   "source": [
    "# hacemos predicción para Tree\n",
    "labels_t = best_t.predict(X_test)"
   ]
  },
  {
   "cell_type": "code",
   "execution_count": 42,
   "id": "social-appliance",
   "metadata": {},
   "outputs": [],
   "source": [
    "# generamos scores\n",
    "labels_scores_t = best_t.predict_proba(X_test)"
   ]
  },
  {
   "cell_type": "code",
   "execution_count": 63,
   "id": "capable-shanghai",
   "metadata": {},
   "outputs": [
    {
     "data": {
      "text/plain": [
       "array([[0.06017812, 0.93982188],\n",
       "       [0.44299674, 0.55700326],\n",
       "       [0.67616624, 0.32383376],\n",
       "       ...,\n",
       "       [0.42361336, 0.57638664],\n",
       "       [0.06017812, 0.93982188],\n",
       "       [0.11141319, 0.88858681]])"
      ]
     },
     "execution_count": 63,
     "metadata": {},
     "output_type": "execute_result"
    }
   ],
   "source": [
    "labels_scores_t"
   ]
  },
  {
   "cell_type": "markdown",
   "id": "still-killer",
   "metadata": {},
   "source": [
    "Generamos curva ROC y calculamos AUC para el mejor modelo del algoritmo Tree"
   ]
  },
  {
   "cell_type": "code",
   "execution_count": 43,
   "id": "wrong-acrylic",
   "metadata": {},
   "outputs": [
    {
     "data": {
      "image/png": "[encoded data removed]",
      "text/plain": [
       "<Figure size 432x288 with 1 Axes>"
      ]
     },
     "metadata": {
      "needs_background": "light"
     },
     "output_type": "display_data"
    }
   ],
   "source": [
    "from sklearn.metrics import roc_curve, roc_auc_score\n",
    "\n",
    "import matplotlib.pyplot as plt\n",
    "\n",
    "%matplotlib inline\n",
    "\n",
    "fpr_t, tpr_t, thresholds_t = roc_curve(y_test, labels_scores_t[:,1], pos_label=1)\n",
    "\n",
    "plt.clf()\n",
    "plt.plot([0,1],[0,1], 'k--', c=\"red\")\n",
    "plt.plot(fpr_t, tpr_t)\n",
    "plt.title(\"ROC best RF, AUC: {}\".format(roc_auc_score(y_test, labels_scores_t[:,1])))\n",
    "plt.xlabel(\"fpr\")\n",
    "plt.ylabel(\"tpr\")\n",
    "plt.show()"
   ]
  },
  {
   "cell_type": "markdown",
   "id": "painful-bishop",
   "metadata": {},
   "source": [
    "**Ahora para el RF**"
   ]
  },
  {
   "cell_type": "code",
   "execution_count": 44,
   "id": "hungarian-telescope",
   "metadata": {},
   "outputs": [
    {
     "data": {
      "text/plain": [
       "RandomForestClassifier(max_depth=10, max_features=20, min_samples_split=3,\n",
       "                       n_estimators=400, oob_score=True, random_state=2222)"
      ]
     },
     "execution_count": 44,
     "metadata": {},
     "output_type": "execute_result"
    }
   ],
   "source": [
    "# entrenamos con el mejor del algoritmo FR\n",
    "best_rf.fit(X_train, y_train)"
   ]
  },
  {
   "cell_type": "code",
   "execution_count": 45,
   "id": "unable-encyclopedia",
   "metadata": {},
   "outputs": [],
   "source": [
    "# hacemos predicción para RF\n",
    "labels_rf = best_rf.predict(X_test)"
   ]
  },
  {
   "cell_type": "code",
   "execution_count": 46,
   "id": "handed-colon",
   "metadata": {},
   "outputs": [],
   "source": [
    "# generamos scores\n",
    "labels_scores_rf = best_rf.predict_proba(X_test)"
   ]
  },
  {
   "cell_type": "markdown",
   "id": "challenging-dependence",
   "metadata": {},
   "source": [
    "Generamos curva ROC y calculamos AUC para el mejor modelo del algoritmo RF"
   ]
  },
  {
   "cell_type": "code",
   "execution_count": 47,
   "id": "changing-district",
   "metadata": {},
   "outputs": [
    {
     "data": {
      "image/png": "[encoded data removed]",
      "text/plain": [
       "<Figure size 432x288 with 1 Axes>"
      ]
     },
     "metadata": {
      "needs_background": "light"
     },
     "output_type": "display_data"
    }
   ],
   "source": [
    "#from sklearn.metrics import roc_curve, roc_auc_score\n",
    "\n",
    "#import matplotlib.pyplot as plt\n",
    "\n",
    "%matplotlib inline\n",
    "\n",
    "fpr_rf, tpr_rf, thresholds_rf = roc_curve(y_test, labels_scores_rf[:,1], pos_label=1)\n",
    "\n",
    "plt.clf()\n",
    "plt.plot([0,1],[0,1], 'k--', c=\"red\")\n",
    "plt.plot(fpr_rf, tpr_rf)\n",
    "plt.title(\"ROC best RF, AUC: {}\".format(roc_auc_score(y_test, labels_scores_rf[:,1])))\n",
    "plt.xlabel(\"fpr\")\n",
    "plt.ylabel(\"tpr\")\n",
    "plt.show()"
   ]
  },
  {
   "cell_type": "markdown",
   "id": "thermal-boost",
   "metadata": {},
   "source": [
    "## Métricas de desempeño\n",
    "\n",
    "Queremos escoger el theshold adecuado. Debido al tipo de problema, queremos que los falsos positivos (fpr) sean menores al 5%."
   ]
  },
  {
   "cell_type": "code",
   "execution_count": 48,
   "id": "administrative-subscriber",
   "metadata": {},
   "outputs": [],
   "source": [
    "#### Precision, recall, thresholds\n",
    "from sklearn.metrics import precision_recall_curve\n",
    "\n",
    "precision, recall, thresholds_2 = precision_recall_curve(y_test, labels_scores_rf[:,1], pos_label=1)"
   ]
  },
  {
   "cell_type": "code",
   "execution_count": 49,
   "id": "weighted-marina",
   "metadata": {},
   "outputs": [
    {
     "data": {
      "text/plain": [
       "((51526,), (51526,), (51526,))"
      ]
     },
     "execution_count": 49,
     "metadata": {},
     "output_type": "execute_result"
    }
   ],
   "source": [
    "thresholds_2 = np.append(thresholds_2, 1)\n",
    "(precision.shape, recall.shape, thresholds_2.shape)"
   ]
  },
  {
   "cell_type": "code",
   "execution_count": 50,
   "id": "military-occasions",
   "metadata": {},
   "outputs": [],
   "source": [
    "def get_metrics_report(fpr, tpr, thresholds, precision, recall, thresholds_2):\n",
    "    df_1 = pd.DataFrame({'threshold': thresholds_2,'precision': precision,\n",
    "                    'recall': recall})\n",
    "    df_1['f1_score'] = 2 * (df_1.precision * df_1.recall) / (df_1.precision + df_1.recall)\n",
    "    \n",
    "    df_2 = pd.DataFrame({'tpr': tpr, 'fpr': fpr, 'threshold': thresholds})\n",
    "    df_2['tnr'] = 1 - df_2['fpr']\n",
    "    df_2['fnr'] = 1 - df_2['tpr']\n",
    "    \n",
    "    df = df_1.merge(df_2, on=\"threshold\")\n",
    "    \n",
    "    return df"
   ]
  },
  {
   "cell_type": "code",
   "execution_count": 52,
   "id": "adaptive-circular",
   "metadata": {},
   "outputs": [
    {
     "data": {
      "text/html": [
       "<div>\n",
       "<style scoped>\n",
       "    .dataframe tbody tr th:only-of-type {\n",
       "        vertical-align: middle;\n",
       "    }\n",
       "\n",
       "    .dataframe tbody tr th {\n",
       "        vertical-align: top;\n",
       "    }\n",
       "\n",
       "    .dataframe thead th {\n",
       "        text-align: right;\n",
       "    }\n",
       "</style>\n",
       "<table border=\"1\" class=\"dataframe\">\n",
       "  <thead>\n",
       "    <tr style=\"text-align: right;\">\n",
       "      <th></th>\n",
       "      <th>threshold</th>\n",
       "      <th>precision</th>\n",
       "      <th>recall</th>\n",
       "      <th>f1_score</th>\n",
       "      <th>tpr</th>\n",
       "      <th>fpr</th>\n",
       "      <th>tnr</th>\n",
       "      <th>fnr</th>\n",
       "    </tr>\n",
       "  </thead>\n",
       "  <tbody>\n",
       "    <tr>\n",
       "      <th>0</th>\n",
       "      <td>0.071639</td>\n",
       "      <td>0.657400</td>\n",
       "      <td>1.000000</td>\n",
       "      <td>0.793291</td>\n",
       "      <td>1.000000</td>\n",
       "      <td>0.988396</td>\n",
       "      <td>0.011604</td>\n",
       "      <td>0.000000</td>\n",
       "    </tr>\n",
       "    <tr>\n",
       "      <th>1</th>\n",
       "      <td>0.073195</td>\n",
       "      <td>0.657393</td>\n",
       "      <td>0.999972</td>\n",
       "      <td>0.793277</td>\n",
       "      <td>0.999972</td>\n",
       "      <td>0.988396</td>\n",
       "      <td>0.011604</td>\n",
       "      <td>0.000028</td>\n",
       "    </tr>\n",
       "    <tr>\n",
       "      <th>2</th>\n",
       "      <td>0.098438</td>\n",
       "      <td>0.657504</td>\n",
       "      <td>0.999972</td>\n",
       "      <td>0.793357</td>\n",
       "      <td>0.999972</td>\n",
       "      <td>0.987913</td>\n",
       "      <td>0.012087</td>\n",
       "      <td>0.000028</td>\n",
       "    </tr>\n",
       "    <tr>\n",
       "      <th>3</th>\n",
       "      <td>0.135855</td>\n",
       "      <td>0.657497</td>\n",
       "      <td>0.999943</td>\n",
       "      <td>0.793344</td>\n",
       "      <td>0.999943</td>\n",
       "      <td>0.987913</td>\n",
       "      <td>0.012087</td>\n",
       "      <td>0.000057</td>\n",
       "    </tr>\n",
       "    <tr>\n",
       "      <th>4</th>\n",
       "      <td>0.139893</td>\n",
       "      <td>0.657558</td>\n",
       "      <td>0.999943</td>\n",
       "      <td>0.793388</td>\n",
       "      <td>0.999943</td>\n",
       "      <td>0.987644</td>\n",
       "      <td>0.012356</td>\n",
       "      <td>0.000057</td>\n",
       "    </tr>\n",
       "    <tr>\n",
       "      <th>...</th>\n",
       "      <td>...</td>\n",
       "      <td>...</td>\n",
       "      <td>...</td>\n",
       "      <td>...</td>\n",
       "      <td>...</td>\n",
       "      <td>...</td>\n",
       "      <td>...</td>\n",
       "      <td>...</td>\n",
       "    </tr>\n",
       "    <tr>\n",
       "      <th>20385</th>\n",
       "      <td>0.902252</td>\n",
       "      <td>1.000000</td>\n",
       "      <td>0.000283</td>\n",
       "      <td>0.000566</td>\n",
       "      <td>0.000283</td>\n",
       "      <td>0.000000</td>\n",
       "      <td>1.000000</td>\n",
       "      <td>0.999717</td>\n",
       "    </tr>\n",
       "    <tr>\n",
       "      <th>20386</th>\n",
       "      <td>0.902682</td>\n",
       "      <td>1.000000</td>\n",
       "      <td>0.000198</td>\n",
       "      <td>0.000396</td>\n",
       "      <td>0.000198</td>\n",
       "      <td>0.000000</td>\n",
       "      <td>1.000000</td>\n",
       "      <td>0.999802</td>\n",
       "    </tr>\n",
       "    <tr>\n",
       "      <th>20387</th>\n",
       "      <td>0.903428</td>\n",
       "      <td>1.000000</td>\n",
       "      <td>0.000142</td>\n",
       "      <td>0.000283</td>\n",
       "      <td>0.000142</td>\n",
       "      <td>0.000000</td>\n",
       "      <td>1.000000</td>\n",
       "      <td>0.999858</td>\n",
       "    </tr>\n",
       "    <tr>\n",
       "      <th>20388</th>\n",
       "      <td>0.905170</td>\n",
       "      <td>1.000000</td>\n",
       "      <td>0.000057</td>\n",
       "      <td>0.000113</td>\n",
       "      <td>0.000057</td>\n",
       "      <td>0.000000</td>\n",
       "      <td>1.000000</td>\n",
       "      <td>0.999943</td>\n",
       "    </tr>\n",
       "    <tr>\n",
       "      <th>20389</th>\n",
       "      <td>0.905300</td>\n",
       "      <td>1.000000</td>\n",
       "      <td>0.000028</td>\n",
       "      <td>0.000057</td>\n",
       "      <td>0.000028</td>\n",
       "      <td>0.000000</td>\n",
       "      <td>1.000000</td>\n",
       "      <td>0.999972</td>\n",
       "    </tr>\n",
       "  </tbody>\n",
       "</table>\n",
       "<p>20390 rows × 8 columns</p>\n",
       "</div>"
      ],
      "text/plain": [
       "       threshold  precision    recall  f1_score       tpr       fpr       tnr  \\\n",
       "0       0.071639   0.657400  1.000000  0.793291  1.000000  0.988396  0.011604   \n",
       "1       0.073195   0.657393  0.999972  0.793277  0.999972  0.988396  0.011604   \n",
       "2       0.098438   0.657504  0.999972  0.793357  0.999972  0.987913  0.012087   \n",
       "3       0.135855   0.657497  0.999943  0.793344  0.999943  0.987913  0.012087   \n",
       "4       0.139893   0.657558  0.999943  0.793388  0.999943  0.987644  0.012356   \n",
       "...          ...        ...       ...       ...       ...       ...       ...   \n",
       "20385   0.902252   1.000000  0.000283  0.000566  0.000283  0.000000  1.000000   \n",
       "20386   0.902682   1.000000  0.000198  0.000396  0.000198  0.000000  1.000000   \n",
       "20387   0.903428   1.000000  0.000142  0.000283  0.000142  0.000000  1.000000   \n",
       "20388   0.905170   1.000000  0.000057  0.000113  0.000057  0.000000  1.000000   \n",
       "20389   0.905300   1.000000  0.000028  0.000057  0.000028  0.000000  1.000000   \n",
       "\n",
       "            fnr  \n",
       "0      0.000000  \n",
       "1      0.000028  \n",
       "2      0.000028  \n",
       "3      0.000057  \n",
       "4      0.000057  \n",
       "...         ...  \n",
       "20385  0.999717  \n",
       "20386  0.999802  \n",
       "20387  0.999858  \n",
       "20388  0.999943  \n",
       "20389  0.999972  \n",
       "\n",
       "[20390 rows x 8 columns]"
      ]
     },
     "execution_count": 52,
     "metadata": {},
     "output_type": "execute_result"
    }
   ],
   "source": [
    "metrics_report = get_metrics_report(fpr_rf, tpr_rf, thresholds_rf, precision, recall, thresholds_2)\n",
    "metrics_report"
   ]
  },
  {
   "cell_type": "markdown",
   "id": "faced-personality",
   "metadata": {},
   "source": [
    "¿Cuál es el threshold que tendríamos que escoger para que no tengamos más de 5% de FP?"
   ]
  },
  {
   "cell_type": "code",
   "execution_count": 55,
   "id": "piano-upset",
   "metadata": {},
   "outputs": [
    {
     "data": {
      "text/html": [
       "<div>\n",
       "<style scoped>\n",
       "    .dataframe tbody tr th:only-of-type {\n",
       "        vertical-align: middle;\n",
       "    }\n",
       "\n",
       "    .dataframe tbody tr th {\n",
       "        vertical-align: top;\n",
       "    }\n",
       "\n",
       "    .dataframe thead th {\n",
       "        text-align: right;\n",
       "    }\n",
       "</style>\n",
       "<table border=\"1\" class=\"dataframe\">\n",
       "  <thead>\n",
       "    <tr style=\"text-align: right;\">\n",
       "      <th></th>\n",
       "      <th>threshold</th>\n",
       "      <th>precision</th>\n",
       "      <th>recall</th>\n",
       "      <th>f1_score</th>\n",
       "      <th>tpr</th>\n",
       "      <th>fpr</th>\n",
       "      <th>tnr</th>\n",
       "      <th>fnr</th>\n",
       "    </tr>\n",
       "  </thead>\n",
       "  <tbody>\n",
       "    <tr>\n",
       "      <th>18262</th>\n",
       "      <td>0.830743</td>\n",
       "      <td>0.904908</td>\n",
       "      <td>0.250673</td>\n",
       "      <td>0.392592</td>\n",
       "      <td>0.250673</td>\n",
       "      <td>0.049960</td>\n",
       "      <td>0.950040</td>\n",
       "      <td>0.749327</td>\n",
       "    </tr>\n",
       "    <tr>\n",
       "      <th>18263</th>\n",
       "      <td>0.830749</td>\n",
       "      <td>0.904889</td>\n",
       "      <td>0.250616</td>\n",
       "      <td>0.392520</td>\n",
       "      <td>0.250616</td>\n",
       "      <td>0.049960</td>\n",
       "      <td>0.950040</td>\n",
       "      <td>0.749384</td>\n",
       "    </tr>\n",
       "    <tr>\n",
       "      <th>18264</th>\n",
       "      <td>0.830753</td>\n",
       "      <td>0.904981</td>\n",
       "      <td>0.250616</td>\n",
       "      <td>0.392529</td>\n",
       "      <td>0.250616</td>\n",
       "      <td>0.049906</td>\n",
       "      <td>0.950094</td>\n",
       "      <td>0.749384</td>\n",
       "    </tr>\n",
       "    <tr>\n",
       "      <th>18265</th>\n",
       "      <td>0.830822</td>\n",
       "      <td>0.904737</td>\n",
       "      <td>0.249908</td>\n",
       "      <td>0.391637</td>\n",
       "      <td>0.249908</td>\n",
       "      <td>0.049906</td>\n",
       "      <td>0.950094</td>\n",
       "      <td>0.750092</td>\n",
       "    </tr>\n",
       "    <tr>\n",
       "      <th>18266</th>\n",
       "      <td>0.830826</td>\n",
       "      <td>0.904830</td>\n",
       "      <td>0.249908</td>\n",
       "      <td>0.391646</td>\n",
       "      <td>0.249908</td>\n",
       "      <td>0.049852</td>\n",
       "      <td>0.950148</td>\n",
       "      <td>0.750092</td>\n",
       "    </tr>\n",
       "    <tr>\n",
       "      <th>...</th>\n",
       "      <td>...</td>\n",
       "      <td>...</td>\n",
       "      <td>...</td>\n",
       "      <td>...</td>\n",
       "      <td>...</td>\n",
       "      <td>...</td>\n",
       "      <td>...</td>\n",
       "      <td>...</td>\n",
       "    </tr>\n",
       "    <tr>\n",
       "      <th>20385</th>\n",
       "      <td>0.902252</td>\n",
       "      <td>1.000000</td>\n",
       "      <td>0.000283</td>\n",
       "      <td>0.000566</td>\n",
       "      <td>0.000283</td>\n",
       "      <td>0.000000</td>\n",
       "      <td>1.000000</td>\n",
       "      <td>0.999717</td>\n",
       "    </tr>\n",
       "    <tr>\n",
       "      <th>20386</th>\n",
       "      <td>0.902682</td>\n",
       "      <td>1.000000</td>\n",
       "      <td>0.000198</td>\n",
       "      <td>0.000396</td>\n",
       "      <td>0.000198</td>\n",
       "      <td>0.000000</td>\n",
       "      <td>1.000000</td>\n",
       "      <td>0.999802</td>\n",
       "    </tr>\n",
       "    <tr>\n",
       "      <th>20387</th>\n",
       "      <td>0.903428</td>\n",
       "      <td>1.000000</td>\n",
       "      <td>0.000142</td>\n",
       "      <td>0.000283</td>\n",
       "      <td>0.000142</td>\n",
       "      <td>0.000000</td>\n",
       "      <td>1.000000</td>\n",
       "      <td>0.999858</td>\n",
       "    </tr>\n",
       "    <tr>\n",
       "      <th>20388</th>\n",
       "      <td>0.905170</td>\n",
       "      <td>1.000000</td>\n",
       "      <td>0.000057</td>\n",
       "      <td>0.000113</td>\n",
       "      <td>0.000057</td>\n",
       "      <td>0.000000</td>\n",
       "      <td>1.000000</td>\n",
       "      <td>0.999943</td>\n",
       "    </tr>\n",
       "    <tr>\n",
       "      <th>20389</th>\n",
       "      <td>0.905300</td>\n",
       "      <td>1.000000</td>\n",
       "      <td>0.000028</td>\n",
       "      <td>0.000057</td>\n",
       "      <td>0.000028</td>\n",
       "      <td>0.000000</td>\n",
       "      <td>1.000000</td>\n",
       "      <td>0.999972</td>\n",
       "    </tr>\n",
       "  </tbody>\n",
       "</table>\n",
       "<p>2128 rows × 8 columns</p>\n",
       "</div>"
      ],
      "text/plain": [
       "       threshold  precision    recall  f1_score       tpr       fpr       tnr  \\\n",
       "18262   0.830743   0.904908  0.250673  0.392592  0.250673  0.049960  0.950040   \n",
       "18263   0.830749   0.904889  0.250616  0.392520  0.250616  0.049960  0.950040   \n",
       "18264   0.830753   0.904981  0.250616  0.392529  0.250616  0.049906  0.950094   \n",
       "18265   0.830822   0.904737  0.249908  0.391637  0.249908  0.049906  0.950094   \n",
       "18266   0.830826   0.904830  0.249908  0.391646  0.249908  0.049852  0.950148   \n",
       "...          ...        ...       ...       ...       ...       ...       ...   \n",
       "20385   0.902252   1.000000  0.000283  0.000566  0.000283  0.000000  1.000000   \n",
       "20386   0.902682   1.000000  0.000198  0.000396  0.000198  0.000000  1.000000   \n",
       "20387   0.903428   1.000000  0.000142  0.000283  0.000142  0.000000  1.000000   \n",
       "20388   0.905170   1.000000  0.000057  0.000113  0.000057  0.000000  1.000000   \n",
       "20389   0.905300   1.000000  0.000028  0.000057  0.000028  0.000000  1.000000   \n",
       "\n",
       "            fnr  \n",
       "18262  0.749327  \n",
       "18263  0.749384  \n",
       "18264  0.749384  \n",
       "18265  0.750092  \n",
       "18266  0.750092  \n",
       "...         ...  \n",
       "20385  0.999717  \n",
       "20386  0.999802  \n",
       "20387  0.999858  \n",
       "20388  0.999943  \n",
       "20389  0.999972  \n",
       "\n",
       "[2128 rows x 8 columns]"
      ]
     },
     "execution_count": 55,
     "metadata": {},
     "output_type": "execute_result"
    }
   ],
   "source": [
    "negocio = metrics_report[metrics_report.fpr <= 0.05]\n",
    "negocio"
   ]
  },
  {
   "cell_type": "markdown",
   "id": "running-rendering",
   "metadata": {},
   "source": [
    "**Generamos nuevo punto de corte**"
   ]
  },
  {
   "cell_type": "code",
   "execution_count": 57,
   "id": "outdoor-bedroom",
   "metadata": {},
   "outputs": [
    {
     "data": {
      "text/plain": [
       "0.8307426680678524"
      ]
     },
     "execution_count": 57,
     "metadata": {},
     "output_type": "execute_result"
    }
   ],
   "source": [
    "punto_corte = negocio.head(1).threshold.values[0]\n",
    "punto_corte"
   ]
  },
  {
   "cell_type": "code",
   "execution_count": 59,
   "id": "agricultural-triumph",
   "metadata": {},
   "outputs": [],
   "source": [
    "new_labels = [0 if score < punto_corte else 1 for score in labels_scores_rf[:,1]]"
   ]
  },
  {
   "cell_type": "code",
   "execution_count": 60,
   "id": "third-tiger",
   "metadata": {},
   "outputs": [
    {
     "data": {
      "text/plain": [
       "[1, 0, 0, 1, 0, 1, 1, 1, 0, 0]"
      ]
     },
     "execution_count": 60,
     "metadata": {},
     "output_type": "execute_result"
    }
   ],
   "source": [
    "new_labels[:10]"
   ]
  },
  {
   "cell_type": "code",
   "execution_count": 61,
   "id": "respected-reputation",
   "metadata": {},
   "outputs": [
    {
     "data": {
      "text/plain": [
       "9780"
      ]
     },
     "execution_count": 61,
     "metadata": {},
     "output_type": "execute_result"
    }
   ],
   "source": [
    "pd.Series(new_labels).sum()"
   ]
  },
  {
   "cell_type": "code",
   "execution_count": null,
   "id": "intermediate-fisher",
   "metadata": {},
   "outputs": [],
   "source": []
  },
  {
   "cell_type": "code",
   "execution_count": null,
   "id": "requested-excerpt",
   "metadata": {},
   "outputs": [],
   "source": []
  },
  {
   "cell_type": "markdown",
   "id": "aggressive-apartment",
   "metadata": {},
   "source": [
    "### Generamos las predicciones con el mejor modelo del RandomForestClassifier para nuestro conjunto de prueba\n",
    "\n",
    "Hacemos predicciones"
   ]
  },
  {
   "cell_type": "code",
   "execution_count": 23,
   "id": "metric-bulletin",
   "metadata": {},
   "outputs": [],
   "source": [
    "#predicted_labels = best_1.predict(X_test)"
   ]
  },
  {
   "cell_type": "markdown",
   "id": "several-linux",
   "metadata": {},
   "source": [
    "Calculamos scores con el mejor predictor"
   ]
  },
  {
   "cell_type": "code",
   "execution_count": 24,
   "id": "disabled-tribe",
   "metadata": {},
   "outputs": [],
   "source": [
    "#predicted_scores = best_1.predict_proba(X_test)"
   ]
  },
  {
   "cell_type": "code",
   "execution_count": 25,
   "id": "accepted-retirement",
   "metadata": {},
   "outputs": [],
   "source": [
    "#predicted_scores"
   ]
  },
  {
   "cell_type": "markdown",
   "id": "vanilla-norfolk",
   "metadata": {},
   "source": [
    "Queremos ver cual es el score mínimo (esperamos que haya al menos uno con score > 0.5 para ver que está clasificando)"
   ]
  },
  {
   "cell_type": "code",
   "execution_count": 26,
   "id": "vocational-layout",
   "metadata": {},
   "outputs": [],
   "source": [
    "#best_1.classes_"
   ]
  },
  {
   "cell_type": "code",
   "execution_count": 27,
   "id": "listed-midnight",
   "metadata": {},
   "outputs": [],
   "source": [
    "#a = pd.DataFrame(predicted_scores,columns=['not_pass','pass'])\n",
    "#min(a['not_pass'])"
   ]
  },
  {
   "cell_type": "code",
   "execution_count": null,
   "id": "rolled-feature",
   "metadata": {},
   "outputs": [],
   "source": []
  },
  {
   "cell_type": "code",
   "execution_count": null,
   "id": "modified-blues",
   "metadata": {},
   "outputs": [],
   "source": []
  },
  {
   "cell_type": "markdown",
   "id": "bottom-rings",
   "metadata": {},
   "source": [
    "**Generamos la curva ROC y calculamos el AUC**"
   ]
  },
  {
   "cell_type": "code",
   "execution_count": 28,
   "id": "hourly-storm",
   "metadata": {},
   "outputs": [],
   "source": [
    "#from sklearn.metrics import roc_curve, roc_auc_score\n",
    "\n",
    "#import matplotlib.pyplot as plt\n",
    "\n",
    "#%matplotlib inline\n",
    "\n",
    "#fpr, tpr, thresholds = roc_curve(y_test, predicted_scores[:,1], pos_label=1)\n",
    "\n",
    "#plt.clf()\n",
    "#plt.plot([0,1],[0,1], 'k--', c=\"red\")\n",
    "#plt.plot(fpr, tpr)\n",
    "#plt.title(\"ROC best RF, AUC: {}\".format(roc_auc_score(y_test, predicted_labels)))\n",
    "#plt.xlabel(\"fpr\")\n",
    "#plt.ylabel(\"tpr\")\n",
    "#plt.show()"
   ]
  },
  {
   "cell_type": "code",
   "execution_count": null,
   "id": "proved-roots",
   "metadata": {},
   "outputs": [],
   "source": []
  }
 ],
 "metadata": {
  "kernelspec": {
   "display_name": "itam-dpa",
   "language": "python",
   "name": "itam_dpa"
  },
  "language_info": {
   "codemirror_mode": {
    "name": "ipython",
    "version": 3
   },
   "file_extension": ".py",
   "mimetype": "text/x-python",
   "name": "python",
   "nbconvert_exporter": "python",
   "pygments_lexer": "ipython3",
   "version": "3.7.4"
  }
 },
 "nbformat": 4,
 "nbformat_minor": 5
}
